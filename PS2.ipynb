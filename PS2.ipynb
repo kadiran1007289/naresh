{
  "cells": [
    {
      "cell_type": "markdown",
      "metadata": {
        "id": "view-in-github",
        "colab_type": "text"
      },
      "source": [
        "<a href=\"https://colab.research.google.com/github/kadiran1007289/naresh/blob/main/PS2.ipynb\" target=\"_parent\"><img src=\"https://colab.research.google.com/assets/colab-badge.svg\" alt=\"Open In Colab\"/></a>"
      ]
    },
    {
      "cell_type": "code",
      "source": [
        "def calculate_net_amount(trans_list):\n",
        "    net_amount = 0\n",
        "    for i in trans_list:\n",
        "        if(i[0] == 'D'):\n",
        "            net_amount = net_amount + int(i[2::])\n",
        "        elif(i[0] == 'W'):\n",
        "            net_amount = net_amount - int(i[2::])\n",
        "    return net_amount\n",
        "trans_list=[\"D:100\",\"W:200\",\"D:400\"]\n",
        "print(calculate_net_amount(trans_list))\n"
      ],
      "metadata": {
        "colab": {
          "base_uri": "https://localhost:8080/"
        },
        "id": "SU8lqtL2V6N1",
        "outputId": "384b69bd-0e85-4622-d687-a741af76963d"
      },
      "execution_count": 3,
      "outputs": [
        {
          "output_type": "stream",
          "name": "stdout",
          "text": [
            "300\n"
          ]
        }
      ]
    },
    {
      "cell_type": "code",
      "source": [
        "calls = int(input(\"Enter number of calls: \"))\n",
        "def bills(calls):\n",
        "  if calls <= 100:\n",
        "      bill = 200\n",
        "  elif calls > 100 and calls <= 150:\n",
        "      calls = calls - 100\n",
        "      bill = 200 + (0.60 * calls)\n",
        "  elif calls > 150 and calls <= 200:\n",
        "      calls = calls - 150\n",
        "      bill = 200 + (0.60 * 50) + (0.50 * calls)\n",
        "  else:\n",
        "      calls = calls - 200\n",
        "      bill = 200 + (0.60 * 50) + (0.50 * 50) + (0.40 * calls)\n",
        "  return bill\n",
        "print(\"Total bill amount is\", bills(calls))\n"
      ],
      "metadata": {
        "id": "rsPIbBjiXSYt",
        "outputId": "dd20e719-5be9-414b-8ece-a8fda2e2e653",
        "colab": {
          "base_uri": "https://localhost:8080/"
        }
      },
      "execution_count": 4,
      "outputs": [
        {
          "output_type": "stream",
          "name": "stdout",
          "text": [
            "Enter number of calls: 100\n",
            "Total bill amount is 200\n"
          ]
        }
      ]
    },
    {
      "cell_type": "markdown",
      "source": [],
      "metadata": {
        "id": "LDzGiYhNV6lB"
      }
    }
  ],
  "metadata": {
    "colab": {
      "name": "Welcome to Colaboratory",
      "toc_visible": true,
      "provenance": [],
      "include_colab_link": true
    },
    "kernelspec": {
      "display_name": "Python 3",
      "name": "python3"
    }
  },
  "nbformat": 4,
  "nbformat_minor": 0
}