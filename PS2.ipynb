{
  "cells": [
    {
      "cell_type": "markdown",
      "metadata": {
        "id": "view-in-github",
        "colab_type": "text"
      },
      "source": [
        "<a href=\"https://colab.research.google.com/github/kadiran1007289/naresh/blob/main/PS2.ipynb\" target=\"_parent\"><img src=\"https://colab.research.google.com/assets/colab-badge.svg\" alt=\"Open In Colab\"/></a>"
      ]
    },
    {
      "cell_type": "code",
      "source": [
        "calls = int(input(\"Enter number of calls: \"))\n",
        "def bills(calls):\n",
        "  if calls <= 100:\n",
        "      bill = 200\n",
        "  elif calls > 100 and calls <= 150:\n",
        "      calls = calls - 100\n",
        "      bill = 200 + (0.60 * calls)\n",
        "  elif calls > 150 and calls <= 200:\n",
        "      calls = calls - 150\n",
        "      bill = 200 + (0.60 * 50) + (0.50 * calls)\n",
        "  else:\n",
        "      calls = calls - 200\n",
        "      bill = 200 + (0.60 * 50) + (0.50 * 50) + (0.40 * calls)\n",
        "  return bill\n",
        "print(\"Total bill amount is\", bills(calls))\n"
      ],
      "metadata": {
        "colab": {
          "base_uri": "https://localhost:8080/"
        },
        "id": "rsPIbBjiXSYt",
        "outputId": "fa5ff603-65aa-4032-b2f9-0ef8c86e630f"
      },
      "execution_count": 5,
      "outputs": [
        {
          "output_type": "stream",
          "name": "stdout",
          "text": [
            "Enter number of calls: 100\n",
            "Total bill amount is 200\n"
          ]
        }
      ]
    },
    {
      "cell_type": "markdown",
      "source": [],
      "metadata": {
        "id": "LDzGiYhNV6lB"
      }
    }
  ],
  "metadata": {
    "colab": {
      "name": "Welcome to Colaboratory",
      "toc_visible": true,
      "provenance": [],
      "include_colab_link": true
    },
    "kernelspec": {
      "display_name": "Python 3",
      "name": "python3"
    }
  },
  "nbformat": 4,
  "nbformat_minor": 0
}