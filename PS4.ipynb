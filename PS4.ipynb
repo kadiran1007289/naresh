{
  "cells": [
    {
      "cell_type": "markdown",
      "metadata": {
        "id": "view-in-github",
        "colab_type": "text"
      },
      "source": [
        "<a href=\"https://colab.research.google.com/github/kadiran1007289/naresh/blob/main/PS4.ipynb\" target=\"_parent\"><img src=\"https://colab.research.google.com/assets/colab-badge.svg\" alt=\"Open In Colab\"/></a>"
      ]
    },
    {
      "cell_type": "markdown",
      "source": [],
      "metadata": {
        "id": "LDzGiYhNV6lB"
      }
    },
    {
      "cell_type": "code",
      "source": [
        "def str_rev(x):\n",
        "  return x[::-1]\n",
        "sample =\"1234abcd\"\n",
        "print(\"The original input string is :\", sample)\n",
        "print(\"The reversed string is :\",str_rev(sample))\n"
      ],
      "metadata": {
        "id": "08jzKnk4Z_oa",
        "outputId": "12a1461b-04d0-42fa-957c-91864ba29d03",
        "colab": {
          "base_uri": "https://localhost:8080/"
        }
      },
      "execution_count": 10,
      "outputs": [
        {
          "output_type": "stream",
          "name": "stdout",
          "text": [
            "The original input string is : 1234abcd\n",
            "The reversed string is : dcba4321\n"
          ]
        }
      ]
    }
  ],
  "metadata": {
    "colab": {
      "name": "Welcome to Colaboratory",
      "toc_visible": true,
      "provenance": [],
      "include_colab_link": true
    },
    "kernelspec": {
      "display_name": "Python 3",
      "name": "python3"
    }
  },
  "nbformat": 4,
  "nbformat_minor": 0
}