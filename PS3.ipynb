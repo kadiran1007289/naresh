{
  "cells": [
    {
      "cell_type": "markdown",
      "metadata": {
        "id": "view-in-github",
        "colab_type": "text"
      },
      "source": [
        "<a href=\"https://colab.research.google.com/github/kadiran1007289/naresh/blob/main/PS3.ipynb\" target=\"_parent\"><img src=\"https://colab.research.google.com/assets/colab-badge.svg\" alt=\"Open In Colab\"/></a>"
      ]
    },
    {
      "cell_type": "markdown",
      "source": [],
      "metadata": {
        "id": "LDzGiYhNV6lB"
      }
    },
    {
      "cell_type": "code",
      "source": [
        "Sample_List = [8, 2, 3, 0, 7]\n",
        "total = sum(Sample_List) #used Built-in function sum()\n",
        "print(\"Sum of all elements in given list is: \", total)\n"
      ],
      "metadata": {
        "id": "yxXOMpgxZUm6",
        "outputId": "febdc2b1-53c7-4b17-c6f4-dc68c730641e",
        "colab": {
          "base_uri": "https://localhost:8080/"
        }
      },
      "execution_count": 8,
      "outputs": [
        {
          "output_type": "stream",
          "name": "stdout",
          "text": [
            "Sum of all elements in given list is:  20\n"
          ]
        }
      ]
    }
  ],
  "metadata": {
    "colab": {
      "name": "Welcome to Colaboratory",
      "toc_visible": true,
      "provenance": [],
      "include_colab_link": true
    },
    "kernelspec": {
      "display_name": "Python 3",
      "name": "python3"
    }
  },
  "nbformat": 4,
  "nbformat_minor": 0
}