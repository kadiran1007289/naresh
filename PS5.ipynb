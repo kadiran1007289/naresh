{
  "cells": [
    {
      "cell_type": "markdown",
      "metadata": {
        "id": "view-in-github",
        "colab_type": "text"
      },
      "source": [
        "<a href=\"https://colab.research.google.com/github/kadiran1007289/naresh/blob/main/PS5.ipynb\" target=\"_parent\"><img src=\"https://colab.research.google.com/assets/colab-badge.svg\" alt=\"Open In Colab\"/></a>"
      ]
    },
    {
      "cell_type": "markdown",
      "source": [],
      "metadata": {
        "id": "LDzGiYhNV6lB"
      }
    },
    {
      "cell_type": "code",
      "source": [
        "def str_case(s):\n",
        "    x={\"upr_cas\":0, \"lwr_cas\":0}\n",
        "    for c in s:\n",
        "        if c.isupper():\n",
        "           x[\"upr_cas\"]+=1\n",
        "        elif c.islower():\n",
        "           x[\"lwr_cas\"]+=1\n",
        "\n",
        "    print (\"Original String : \", s)\n",
        "    print (\"No. of Upper case characters : \", x[\"upr_cas\"])\n",
        "    print (\"No. of Lower case Characters : \", x[\"lwr_cas\"])\n",
        "\n",
        "str_case('Abcd 12Fghlk DTHkdfwark')\n"
      ],
      "metadata": {
        "colab": {
          "base_uri": "https://localhost:8080/"
        },
        "id": "08jzKnk4Z_oa",
        "outputId": "d7cc5936-b15b-417f-a6e9-8144c3f080ed"
      },
      "execution_count": 11,
      "outputs": [
        {
          "output_type": "stream",
          "name": "stdout",
          "text": [
            "Original String :  Abcd 12Fghlk DTHkdfwark\n",
            "No. of Upper case characters :  5\n",
            "No. of Lower case Characters :  14\n"
          ]
        }
      ]
    }
  ],
  "metadata": {
    "colab": {
      "name": "Welcome to Colaboratory",
      "toc_visible": true,
      "provenance": [],
      "include_colab_link": true
    },
    "kernelspec": {
      "display_name": "Python 3",
      "name": "python3"
    }
  },
  "nbformat": 4,
  "nbformat_minor": 0
}