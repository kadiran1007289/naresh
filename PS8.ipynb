{
  "cells": [
    {
      "cell_type": "markdown",
      "metadata": {
        "id": "view-in-github",
        "colab_type": "text"
      },
      "source": [
        "<a href=\"https://colab.research.google.com/github/kadiran1007289/naresh/blob/main/PS8.ipynb\" target=\"_parent\"><img src=\"https://colab.research.google.com/assets/colab-badge.svg\" alt=\"Open In Colab\"/></a>"
      ]
    },
    {
      "cell_type": "markdown",
      "source": [],
      "metadata": {
        "id": "LDzGiYhNV6lB"
      }
    },
    {
      "cell_type": "code",
      "source": [
        "class Student:\n",
        "    def __init__(self, name, rollnumber):\n",
        "        self.name = name\n",
        "        self.rollnumber = rollnumber\n",
        "    def get_name(self):\n",
        "        return self.name\n",
        "    def get_rollnumber(self):\n",
        "        return self.rollnumber\n",
        "    def set_name(self, name):\n",
        "        self.name = name\n",
        "    def set_rollnumber(self, rollnumber):\n",
        "        self.rollnumber = rollnumber\n",
        "\n",
        "# Create an instance of the Student class\n",
        "student1 = Student(\"Naresh\", 26)\n",
        "\n",
        "#Get the student's name,rollnumber\n",
        "print(\"Name:\", student1.get_name())\n",
        "print(\"RollNumber:\", student1.get_rollnumber())\n",
        "\n",
        "# Set new values for the student's name, rollnumber\n",
        "student1.set_name(\"kadira\")\n",
        "student1.set_rollnumber(32)\n",
        "\n",
        "# Get the updated values\n",
        "print(\"Name:\", student1.get_name())\n",
        "print(\"RollNumber:\", student1.get_rollnumber())\n",
        "\n",
        "\n"
      ],
      "metadata": {
        "colab": {
          "base_uri": "https://localhost:8080/"
        },
        "id": "08jzKnk4Z_oa",
        "outputId": "b7bfccd3-5989-4e95-bc65-0740d449c90e"
      },
      "execution_count": 16,
      "outputs": [
        {
          "output_type": "stream",
          "name": "stdout",
          "text": [
            "Name: Naresh\n",
            "RollNumber: 26\n",
            "Name: kadira\n",
            "RollNumber: 32\n"
          ]
        }
      ]
    }
  ],
  "metadata": {
    "colab": {
      "name": "Welcome to Colaboratory",
      "toc_visible": true,
      "provenance": [],
      "include_colab_link": true
    },
    "kernelspec": {
      "display_name": "Python 3",
      "name": "python3"
    }
  },
  "nbformat": 4,
  "nbformat_minor": 0
}